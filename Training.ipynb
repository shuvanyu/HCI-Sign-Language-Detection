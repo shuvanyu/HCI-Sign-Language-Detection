{
 "cells": [
  {
   "cell_type": "code",
   "execution_count": 1,
   "id": "fb3e86ca",
   "metadata": {},
   "outputs": [],
   "source": [
    "import cv2\n",
    "import numpy as np\n",
    "import os\n",
    "from matplotlib import pyplot as plt\n",
    "import time\n",
    "import mediapipe as mp\n",
    "from sklearn.model_selection import train_test_split\n",
    "from tensorflow.keras.utils import to_categorical\n",
    "\n",
    "from Data_Collection import definitions\n",
    "from Data_Collection import instantiation\n",
    "from Data_Collection import detection\n",
    "from Data_Collection import draw_landmarks\n",
    "from Data_Collection import extract_keypoints\n",
    "\n",
    "train = False"
   ]
  },
  {
   "cell_type": "markdown",
   "id": "6ff82067",
   "metadata": {},
   "source": [
    "### Storing all the imported data"
   ]
  },
  {
   "cell_type": "code",
   "execution_count": 2,
   "id": "805cdb08",
   "metadata": {},
   "outputs": [],
   "source": [
    "width_cam, height_cam, fps, actions, num_sequence, sequence_len, path = definitions()\n",
    "mp_holistic, mp_drawing = instantiation()"
   ]
  },
  {
   "cell_type": "markdown",
   "id": "fecdabed",
   "metadata": {},
   "source": [
    "### Prepocess Data and Create Labels and Features"
   ]
  },
  {
   "cell_type": "code",
   "execution_count": 3,
   "id": "01c93bff",
   "metadata": {},
   "outputs": [],
   "source": [
    "if train:\n",
    "    label_map = {label:num for num, label in enumerate(actions)}\n",
    "\n",
    "    # Storing the videos (sequences) and labeling it with the respective action labels in one single large array\n",
    "    sequences, labels = [], []\n",
    "    for action in actions:\n",
    "        for sequence in range(num_sequence):\n",
    "            # The array 'window' stores all the frames for a particular sequence (video). \n",
    "            # This will have size of 30\n",
    "            window = []\n",
    "            for frame_num in range(sequence_len):\n",
    "                res = np.load(os.path.join(path, action, str(sequence), \"{}.npy\".format(frame_num)))\n",
    "                window.append(res)\n",
    "            # The array 'sequences' stores all the videos for a particular action. \n",
    "            # This will have size of 90\n",
    "            sequences.append(window)\n",
    "            labels.append(label_map[action])"
   ]
  },
  {
   "cell_type": "code",
   "execution_count": 4,
   "id": "938d1a72",
   "metadata": {},
   "outputs": [],
   "source": [
    "# The array 'sequences' stores all the videos and all the frames in that video for a particular action. \n",
    "# This will have shape of (90,30,1662) which means 90 videos, 30 frames per video, 1662 keypoints.\n",
    "\n",
    "# [\n",
    "#     [\n",
    "#         [0th frame kepoints for 0th video of action 1], [1st frame keypoints for 0th video of action 1] ... [29th frame keypoint for 0th video of action 1]\n",
    "#     ],\n",
    "#     .\n",
    "#     .\n",
    "#     .\n",
    "#     [\n",
    "#         [0th frame kepoints for 29th video of action 1], [1st frame keypoints for 29th video of action 1] ... [29th frame keypoint for 29th video of action 1]\n",
    "#     ]\n",
    "    \n",
    "#     This repeats 90 times total (30 videos of 3 actions)\n",
    "# ]\n",
    "# (np.array(sequences)).shape\n",
    "# np.array(sequences)"
   ]
  },
  {
   "cell_type": "code",
   "execution_count": 5,
   "id": "d71768bd",
   "metadata": {},
   "outputs": [
    {
     "name": "stdout",
     "output_type": "stream",
     "text": [
      "Shapes x and y\n",
      "(120, 30, 258) (120, 3)\n",
      "Shapes of x_train and x_test\n",
      "(108, 30, 258) (12, 30, 258)\n",
      "Shapes of y_test\n",
      "[[0 1 0]\n",
      " [0 0 1]\n",
      " [0 1 0]\n",
      " [1 0 0]\n",
      " [1 0 0]\n",
      " [1 0 0]\n",
      " [0 1 0]\n",
      " [0 1 0]\n",
      " [0 0 1]\n",
      " [1 0 0]\n",
      " [0 1 0]\n",
      " [1 0 0]]\n"
     ]
    }
   ],
   "source": [
    "if train:\n",
    "    x = np.array(sequences)\n",
    "    y = to_categorical(labels).astype(int)\n",
    "    print(\"Shapes x and y\")\n",
    "    print(x.shape, y.shape)\n",
    "\n",
    "    # Split the data into train-test data\n",
    "    x_train, x_test, y_train, y_test = train_test_split(x, y, test_size=0.10, shuffle=True)\n",
    "\n",
    "    print(\"Shapes of x_train and x_test\")\n",
    "    print(x_train.shape, x_test.shape)\n",
    "    print(\"Shapes of y_test\")\n",
    "    print(y_test)"
   ]
  },
  {
   "cell_type": "markdown",
   "id": "b0d91644",
   "metadata": {},
   "source": [
    "### Build and Train LSTM Neural Network"
   ]
  },
  {
   "cell_type": "code",
   "execution_count": 6,
   "id": "1b2abf6f",
   "metadata": {},
   "outputs": [],
   "source": [
    "from tensorflow.keras.models import Sequential # Build a sequential NN\n",
    "from tensorflow.keras.layers import LSTM, Dense # LSTM and the dense layers \n",
    "from tensorflow.keras.callbacks import TensorBoard # To monitor NN training\n",
    "import tensorflow\n",
    "# LSTM requires lesser data, is faster to train and is able to detect faster"
   ]
  },
  {
   "cell_type": "code",
   "execution_count": 7,
   "id": "097df75f",
   "metadata": {},
   "outputs": [
    {
     "name": "stdout",
     "output_type": "stream",
     "text": [
      "Epoch 1/50\n",
      "4/4 [==============================] - 3s 42ms/step - loss: 1.1468 - categorical_accuracy: 0.4167\n",
      "Epoch 2/50\n",
      "4/4 [==============================] - 0s 35ms/step - loss: 0.9966 - categorical_accuracy: 0.4815\n",
      "Epoch 3/50\n",
      "4/4 [==============================] - 0s 35ms/step - loss: 0.7557 - categorical_accuracy: 0.6296\n",
      "Epoch 4/50\n",
      "4/4 [==============================] - 0s 35ms/step - loss: 0.9650 - categorical_accuracy: 0.5463\n",
      "Epoch 5/50\n",
      "4/4 [==============================] - 0s 36ms/step - loss: 0.7518 - categorical_accuracy: 0.6019\n",
      "Epoch 6/50\n",
      "4/4 [==============================] - 0s 36ms/step - loss: 0.6787 - categorical_accuracy: 0.6296\n",
      "Epoch 7/50\n",
      "4/4 [==============================] - 0s 35ms/step - loss: 0.8279 - categorical_accuracy: 0.6111\n",
      "Epoch 8/50\n",
      "4/4 [==============================] - 0s 36ms/step - loss: 0.6799 - categorical_accuracy: 0.6019\n",
      "Epoch 9/50\n",
      "4/4 [==============================] - 0s 36ms/step - loss: 0.7078 - categorical_accuracy: 0.5556\n",
      "Epoch 10/50\n",
      "4/4 [==============================] - 0s 36ms/step - loss: 0.6400 - categorical_accuracy: 0.6389\n",
      "Epoch 11/50\n",
      "4/4 [==============================] - 0s 36ms/step - loss: 0.5593 - categorical_accuracy: 0.6574\n",
      "Epoch 12/50\n",
      "4/4 [==============================] - 0s 37ms/step - loss: 0.5657 - categorical_accuracy: 0.6944\n",
      "Epoch 13/50\n",
      "4/4 [==============================] - 0s 43ms/step - loss: 0.7802 - categorical_accuracy: 0.5926\n",
      "Epoch 14/50\n",
      "4/4 [==============================] - 0s 50ms/step - loss: 0.6648 - categorical_accuracy: 0.7315\n",
      "Epoch 15/50\n",
      "4/4 [==============================] - 0s 57ms/step - loss: 0.6121 - categorical_accuracy: 0.6574\n",
      "Epoch 16/50\n",
      "4/4 [==============================] - 0s 59ms/step - loss: 0.5732 - categorical_accuracy: 0.6944\n",
      "Epoch 17/50\n",
      "4/4 [==============================] - 0s 58ms/step - loss: 0.6477 - categorical_accuracy: 0.6481\n",
      "Epoch 18/50\n",
      "4/4 [==============================] - 0s 57ms/step - loss: 0.4993 - categorical_accuracy: 0.7407\n",
      "Epoch 19/50\n",
      "4/4 [==============================] - 0s 59ms/step - loss: 0.4955 - categorical_accuracy: 0.7222\n",
      "Epoch 20/50\n",
      "4/4 [==============================] - 0s 63ms/step - loss: 0.4129 - categorical_accuracy: 0.7500\n",
      "Epoch 21/50\n",
      "4/4 [==============================] - 0s 62ms/step - loss: 0.3280 - categorical_accuracy: 0.8796\n",
      "Epoch 22/50\n",
      "4/4 [==============================] - 0s 61ms/step - loss: 0.9771 - categorical_accuracy: 0.7778\n",
      "Epoch 23/50\n",
      "4/4 [==============================] - 0s 62ms/step - loss: 0.6709 - categorical_accuracy: 0.7222\n",
      "Epoch 24/50\n",
      "4/4 [==============================] - 0s 61ms/step - loss: 0.4389 - categorical_accuracy: 0.8981\n",
      "Epoch 25/50\n",
      "4/4 [==============================] - 0s 70ms/step - loss: 0.3892 - categorical_accuracy: 0.8704\n",
      "Epoch 26/50\n",
      "4/4 [==============================] - 0s 58ms/step - loss: 0.2442 - categorical_accuracy: 0.9259\n",
      "Epoch 27/50\n",
      "4/4 [==============================] - 0s 60ms/step - loss: 0.5118 - categorical_accuracy: 0.8796\n",
      "Epoch 28/50\n",
      "4/4 [==============================] - 0s 59ms/step - loss: 0.5409 - categorical_accuracy: 0.8148\n",
      "Epoch 29/50\n",
      "4/4 [==============================] - 0s 59ms/step - loss: 0.4267 - categorical_accuracy: 0.7685\n",
      "Epoch 30/50\n",
      "4/4 [==============================] - 0s 58ms/step - loss: 0.3826 - categorical_accuracy: 0.8981\n",
      "Epoch 31/50\n",
      "4/4 [==============================] - 0s 60ms/step - loss: 0.3218 - categorical_accuracy: 0.9630\n",
      "Epoch 32/50\n",
      "4/4 [==============================] - 0s 60ms/step - loss: 0.2776 - categorical_accuracy: 0.9352\n",
      "Epoch 33/50\n",
      "4/4 [==============================] - 0s 58ms/step - loss: 0.1944 - categorical_accuracy: 0.9352\n",
      "Epoch 34/50\n",
      "4/4 [==============================] - 0s 57ms/step - loss: 0.1433 - categorical_accuracy: 0.9537\n",
      "Epoch 35/50\n",
      "4/4 [==============================] - 0s 56ms/step - loss: 0.2694 - categorical_accuracy: 0.8611\n",
      "Epoch 36/50\n",
      "4/4 [==============================] - 0s 57ms/step - loss: 0.2231 - categorical_accuracy: 0.8981\n",
      "Epoch 37/50\n",
      "4/4 [==============================] - 0s 62ms/step - loss: 0.1291 - categorical_accuracy: 0.9537\n",
      "Epoch 38/50\n",
      "4/4 [==============================] - 0s 63ms/step - loss: 0.2139 - categorical_accuracy: 0.9537\n",
      "Epoch 39/50\n",
      "4/4 [==============================] - 0s 60ms/step - loss: 0.0613 - categorical_accuracy: 0.9722\n",
      "Epoch 40/50\n",
      "4/4 [==============================] - 0s 58ms/step - loss: 0.0363 - categorical_accuracy: 0.9815\n",
      "Epoch 41/50\n",
      "4/4 [==============================] - 0s 58ms/step - loss: 0.1732 - categorical_accuracy: 0.9352\n",
      "Epoch 42/50\n",
      "4/4 [==============================] - 0s 58ms/step - loss: 0.2611 - categorical_accuracy: 0.9444\n",
      "Epoch 43/50\n",
      "4/4 [==============================] - 0s 59ms/step - loss: 0.1203 - categorical_accuracy: 0.9630\n",
      "Epoch 44/50\n",
      "4/4 [==============================] - 0s 54ms/step - loss: 0.2855 - categorical_accuracy: 0.8704\n",
      "Epoch 45/50\n",
      "4/4 [==============================] - 0s 57ms/step - loss: 0.2801 - categorical_accuracy: 0.8796\n",
      "Epoch 46/50\n",
      "4/4 [==============================] - 0s 58ms/step - loss: 0.1007 - categorical_accuracy: 0.9630\n",
      "Epoch 47/50\n",
      "4/4 [==============================] - 0s 57ms/step - loss: 0.0782 - categorical_accuracy: 0.9537\n",
      "Epoch 48/50\n",
      "4/4 [==============================] - 0s 62ms/step - loss: 0.1582 - categorical_accuracy: 0.9630\n",
      "Epoch 49/50\n",
      "4/4 [==============================] - 0s 70ms/step - loss: 0.4895 - categorical_accuracy: 0.8889\n",
      "Epoch 50/50\n",
      "4/4 [==============================] - 0s 64ms/step - loss: 0.1859 - categorical_accuracy: 0.9074\n",
      "\n",
      "Model: \"sequential\"\n",
      "_________________________________________________________________\n",
      " Layer (type)                Output Shape              Param #   \n",
      "=================================================================\n",
      " lstm (LSTM)                 (None, 30, 64)            82688     \n",
      "                                                                 \n",
      " lstm_1 (LSTM)               (None, 30, 128)           98816     \n",
      "                                                                 \n",
      " lstm_2 (LSTM)               (None, 64)                49408     \n",
      "                                                                 \n",
      " dense (Dense)               (None, 64)                4160      \n",
      "                                                                 \n",
      " dense_1 (Dense)             (None, 32)                2080      \n",
      "                                                                 \n",
      " dense_2 (Dense)             (None, 3)                 99        \n",
      "                                                                 \n",
      "=================================================================\n",
      "Total params: 237,251\n",
      "Trainable params: 237,251\n",
      "Non-trainable params: 0\n",
      "_________________________________________________________________\n"
     ]
    }
   ],
   "source": [
    "if train:\n",
    "    log_dir = os.path.join('Training_Logs')\n",
    "    tb_callback = TensorBoard(log_dir=log_dir)\n",
    "\n",
    "    model = Sequential()\n",
    "    model.add(LSTM(64, return_sequences=True, activation='relu', input_shape=(x.shape[1],x.shape[2])))\n",
    "    model.add(LSTM(128, return_sequences=True, activation='relu'))\n",
    "    model.add(LSTM(64, return_sequences=False, activation='relu'))\n",
    "    model.add(Dense(64, activation='relu'))\n",
    "    model.add(Dense(32, activation='relu'))\n",
    "    model.add(Dense(actions.shape[0], activation='softmax'))\n",
    "\n",
    "    opt = tensorflow.keras.optimizers.Adam(learning_rate=0.001, beta_1=0.8,\n",
    "                                           beta_2=0.899,\n",
    "                                           epsilon=1e-07)\n",
    "    model.compile(optimizer=opt, loss='categorical_crossentropy', metrics=['categorical_accuracy'])\n",
    "    model.fit(x_train, y_train, epochs=50, callbacks=[tb_callback])\n",
    "\n",
    "    print()\n",
    "    model.summary()"
   ]
  },
  {
   "cell_type": "markdown",
   "id": "3d0479c1",
   "metadata": {},
   "source": [
    "### Save Weights"
   ]
  },
  {
   "cell_type": "code",
   "execution_count": 8,
   "id": "c8981e77",
   "metadata": {},
   "outputs": [],
   "source": [
    "if train:\n",
    "    model.save('action.h5')"
   ]
  },
  {
   "cell_type": "markdown",
   "id": "41be519d",
   "metadata": {},
   "source": [
    "### Testing a test-case"
   ]
  },
  {
   "cell_type": "code",
   "execution_count": 9,
   "id": "3691a20b",
   "metadata": {},
   "outputs": [
    {
     "name": "stdout",
     "output_type": "stream",
     "text": [
      "1/1 [==============================] - 0s 457ms/step\n",
      " Predicted Label: Hello, \n",
      " True Label: Hello\n",
      "Thanks Thanks\n",
      " y_test data \n",
      "[[0 1 0]\n",
      " [0 0 1]\n",
      " [0 1 0]\n",
      " [1 0 0]\n",
      " [1 0 0]\n",
      " [1 0 0]\n",
      " [0 1 0]\n",
      " [0 1 0]\n",
      " [0 0 1]\n",
      " [1 0 0]\n",
      " [0 1 0]\n",
      " [1 0 0]]\n"
     ]
    }
   ],
   "source": [
    "if train:\n",
    "    res = model.predict(x_test)\n",
    "    prediction_label = actions[np.argmax(res[3])]\n",
    "    true_label = actions[np.argmax(y_test[3])]\n",
    "\n",
    "    print(\" Predicted Label: {}, \\n True Label: {}\".format(prediction_label, true_label))\n",
    "    \n",
    "    print(actions[np.argmax(res[0])], actions[np.argmax(y_test[0])])\n",
    "    print (\" y_test data \")\n",
    "    print(y_test)"
   ]
  },
  {
   "cell_type": "markdown",
   "id": "79789298",
   "metadata": {},
   "source": [
    "### Evaluation using Confusion Matrix and Accuracy"
   ]
  },
  {
   "cell_type": "code",
   "execution_count": 10,
   "id": "3fdeaeeb",
   "metadata": {},
   "outputs": [
    {
     "name": "stdout",
     "output_type": "stream",
     "text": [
      "1/1 [==============================] - 0s 31ms/step\n",
      "Confusion Matrix\n",
      "[[[ 7  0]\n",
      "  [ 0  5]]\n",
      "\n",
      " [[ 7  0]\n",
      "  [ 0  5]]\n",
      "\n",
      " [[10  0]\n",
      "  [ 0  2]]]\n",
      "The Accuracy Score is:  1.0\n"
     ]
    }
   ],
   "source": [
    "if train:\n",
    "    from sklearn.metrics import multilabel_confusion_matrix, accuracy_score\n",
    "\n",
    "    y_predict = model.predict(x_test)\n",
    "\n",
    "    # Converting the true labels from one-hot-encoded version to a list version with actual label numbers\n",
    "    y_true = np.argmax(y_test, axis=1).tolist()\n",
    "\n",
    "    # Converting the prdicted labels from one-hot-encoded version to a list version with actual label numbers\n",
    "    y_predict = np.argmax(y_predict, axis=1).tolist()\n",
    "\n",
    "    print(\"Confusion Matrix\")\n",
    "    print(multilabel_confusion_matrix(y_true, y_predict))\n",
    "    print(\"The Accuracy Score is: \",accuracy_score(y_true, y_predict))"
   ]
  }
 ],
 "metadata": {
  "kernelspec": {
   "display_name": "Python 3 (ipykernel)",
   "language": "python",
   "name": "python3"
  },
  "language_info": {
   "codemirror_mode": {
    "name": "ipython",
    "version": 3
   },
   "file_extension": ".py",
   "mimetype": "text/x-python",
   "name": "python",
   "nbconvert_exporter": "python",
   "pygments_lexer": "ipython3",
   "version": "3.9.12"
  }
 },
 "nbformat": 4,
 "nbformat_minor": 5
}
